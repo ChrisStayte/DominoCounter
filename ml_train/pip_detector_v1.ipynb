{
 "cells": [
  {
   "attachments": {},
   "cell_type": "markdown",
   "metadata": {},
   "source": [
    "# Thesis\n",
    "Automatically detect domino pips using the YoloV5 object detection dataset.\n",
    "\n",
    "### This will be completed in the following steps\n",
    "- Label 30 domino tiles (1-15 black and 1-15 colored)\n",
    "- Use Turi create to generator sample data\n",
    "- Train yolo V5\n",
    "- Check \n",
    "\n",
    "### Requirements\n",
    "- Python 3.8\n",
    "- Turicreate\n",
    "\n",
    "\n",
    "## Info\n",
    "Yolo v5 works better when the dimension of the image data is a multiple of 32. \n",
    "- 416x416\n",
    "- 640x640\n",
    "- 896x896\n",
    "\n",
    "Typically the model will achieve better accuracy with a larger image but takes more resources and time to train. I will use 640x640 for now. \n",
    "\n"
   ]
  },
  {
   "attachments": {},
   "cell_type": "markdown",
   "metadata": {},
   "source": [
    "Generate images using turi create"
   ]
  },
  {
   "cell_type": "code",
   "execution_count": 1,
   "metadata": {},
   "outputs": [
    {
     "ename": "ModuleNotFoundError",
     "evalue": "No module named 'turicreate'",
     "output_type": "error",
     "traceback": [
      "\u001b[1;31m---------------------------------------------------------------------------\u001b[0m",
      "\u001b[1;31mModuleNotFoundError\u001b[0m                       Traceback (most recent call last)",
      "\u001b[1;32mc:\\Users\\ctsta\\Documents\\SourceControl\\DominoesCalculator\\ml_train\\pip_detector_v1.ipynb Cell 3\u001b[0m in \u001b[0;36m<cell line: 1>\u001b[1;34m()\u001b[0m\n\u001b[1;32m----> <a href='vscode-notebook-cell:/c%3A/Users/ctsta/Documents/SourceControl/DominoesCalculator/ml_train/pip_detector_v1.ipynb#W2sZmlsZQ%3D%3D?line=0'>1</a>\u001b[0m \u001b[39mimport\u001b[39;00m \u001b[39mturicreate\u001b[39;00m \u001b[39mas\u001b[39;00m \u001b[39mtc\u001b[39;00m\n\u001b[0;32m      <a href='vscode-notebook-cell:/c%3A/Users/ctsta/Documents/SourceControl/DominoesCalculator/ml_train/pip_detector_v1.ipynb#W2sZmlsZQ%3D%3D?line=2'>3</a>\u001b[0m \u001b[39m# Load the data\u001b[39;00m\n\u001b[0;32m      <a href='vscode-notebook-cell:/c%3A/Users/ctsta/Documents/SourceControl/DominoesCalculator/ml_train/pip_detector_v1.ipynb#W2sZmlsZQ%3D%3D?line=3'>4</a>\u001b[0m starter_image \u001b[39m=\u001b[39m tc\u001b[39m.\u001b[39mload_image(\u001b[39m'\u001b[39m\u001b[39m./pip_images/3.jpeg\u001b[39m\u001b[39m'\u001b[39m)\n",
      "\u001b[1;31mModuleNotFoundError\u001b[0m: No module named 'turicreate'"
     ]
    }
   ],
   "source": [
    "import turicreate as tc\n",
    "\n",
    "list_of_image_names = ['01', '02', '03', '04', '05', '06', '07', '08', '09', '10']\n",
    "\n",
    "# Load the data\n",
    "starter_image = tc.load_image('./pip_images/3.jpeg')"
   ]
  }
 ],
 "metadata": {
  "kernelspec": {
   "display_name": "domino",
   "language": "python",
   "name": "python3"
  },
  "language_info": {
   "codemirror_mode": {
    "name": "ipython",
    "version": 3
   },
   "file_extension": ".py",
   "mimetype": "text/x-python",
   "name": "python",
   "nbconvert_exporter": "python",
   "pygments_lexer": "ipython3",
   "version": "3.8.16"
  },
  "orig_nbformat": 4
 },
 "nbformat": 4,
 "nbformat_minor": 2
}

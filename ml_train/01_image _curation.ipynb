{
 "cells": [
  {
   "attachments": {},
   "cell_type": "markdown",
   "metadata": {},
   "source": [
    "# Image Curation\n",
    "This notebook is used to curate the images for the training and testing dataset. The images are curated by removing the images that are not relevant to the project. The images are also renamed to a standard format. \n",
    "\n",
    "\n",
    "## Methodology\n",
    "I have a folder with images that need annotations. In order to keep them organized I would like to name them 01 -> (n). The file types can be (.png, .jpg, .jpeg, and .webp). I would also like to maintain the order of already sorted images in the event that I add additional images to the collection.\n",
    "\n",
    "I want the collection of images to be called: image_00, image_01, image_02"
   ]
  },
  {
   "cell_type": "code",
   "execution_count": 7,
   "metadata": {},
   "outputs": [
    {
     "name": "stdout",
     "output_type": "stream",
     "text": [
      "Number of images in the directory:  43\n",
      "Count of images by file extension:  {'.jpg': 13, '.jpeg': 21, '.png': 1, '.webp': 8}\n"
     ]
    }
   ],
   "source": [
    "import os\n",
    "\n",
    "image_directory = '..\\ml_train\\\\base_images'\n",
    "\n",
    "# list all of the images in the directory\n",
    "image_list = os.listdir(image_directory)\n",
    "\n",
    "# print the number of images in the directory\n",
    "print('Number of images in the directory: ', len(image_list))\n",
    "\n",
    "# get count of images by file extension\n",
    "image_extensions = [os.path.splitext(x)[1] for x in image_list]\n",
    "print('Count of images by file extension: ', dict([(x,image_extensions.count(x)) for x in set(image_extensions)]))\n",
    "\n",
    "# get a list of images that are already named by index\n",
    "image_index_list = [x for x in image_list if x.startswith('image_')]\n",
    "\n",
    "# start with 00 and increment by 1 to fin\n",
    "\n",
    "\n",
    "\n",
    "\n",
    "\n",
    "\n"
   ]
  }
 ],
 "metadata": {
  "kernelspec": {
   "display_name": "domino",
   "language": "python",
   "name": "python3"
  },
  "language_info": {
   "codemirror_mode": {
    "name": "ipython",
    "version": 3
   },
   "file_extension": ".py",
   "mimetype": "text/x-python",
   "name": "python",
   "nbconvert_exporter": "python",
   "pygments_lexer": "ipython3",
   "version": "3.8.16"
  },
  "orig_nbformat": 4
 },
 "nbformat": 4,
 "nbformat_minor": 2
}

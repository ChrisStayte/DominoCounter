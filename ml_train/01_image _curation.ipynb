{
 "cells": [
  {
   "attachments": {},
   "cell_type": "markdown",
   "metadata": {},
   "source": [
    "# Image Curation\n",
    "This notebook is used to curate the images for the training and testing dataset. The images are curated by removing the images that are not relevant to the project. The images are also renamed to a standard format. \n",
    "\n",
    "\n",
    "## Methodology\n",
    "I have a folder with images that need annotations. In order to keep them organized I would like to name them 01 -> (n). The file types can be (.png, .jpg, .jpeg, and .webp). I would also like to maintain the order of already sorted images in the event that I add additional images to the collection.\n",
    "\n",
    "I want the collection of images to be called: image_00, image_01, image_02"
   ]
  },
  {
   "cell_type": "code",
   "execution_count": 14,
   "metadata": {},
   "outputs": [
    {
     "name": "stdout",
     "output_type": "stream",
     "text": [
      "Number of images in the directory:  43\n",
      "Count of images by file extension:  {'.jpeg': 21, '.jpg': 13, '.png': 1, '.webp': 8}\n",
      "['image_01.jpg', 'image_02.jpeg', 'image_03.jpeg', 'image_04.webp', 'image_05.jpeg', 'image_06.jpeg', 'image_07.jpeg', 'image_08.jpeg', 'image_09.jpeg', 'image_10.jpeg', 'image_11.jpeg', 'image_12.jpeg', 'image_13.jpeg', 'image_14.png', 'image_15.jpeg', 'image_16.webp', 'image_17.jpg', 'image_18.jpeg', 'image_19.jpg', 'image_20.jpeg', 'image_21.jpeg', 'image_22.jpeg', 'image_23.jpeg', 'image_24.webp', 'image_25.jpeg', 'image_26.jpeg', 'image_27.jpeg', 'image_28.webp', 'image_29.jpg', 'image_30.jpg', 'image_31.jpg', 'image_32.jpg', 'image_33.jpg', 'image_34.jpg', 'image_35.jpg', 'image_36.webp', 'image_37.jpg', 'image_38.jpg', 'image_39.jpg', 'image_40.jpeg', 'image_41.webp', 'image_42.webp', 'image_43.webp']\n",
      "['image_01.jpg', 'image_02.jpeg', 'image_03.jpeg', 'image_04.webp', 'image_05.jpeg', 'image_06.jpeg', 'image_07.jpeg', 'image_08.jpeg', 'image_09.jpeg', 'image_10.jpeg', 'image_11.jpeg', 'image_12.jpeg', 'image_13.jpeg', 'image_14.png', 'image_15.jpeg', 'image_16.webp', 'image_17.jpg', 'image_18.jpeg', 'image_19.jpg', 'image_20.jpeg', 'image_21.jpeg', 'image_22.jpeg', 'image_23.jpeg', 'image_24.webp', 'image_25.jpeg', 'image_26.jpeg', 'image_27.jpeg', 'image_28.webp', 'image_29.jpg', 'image_30.jpg', 'image_31.jpg', 'image_32.jpg', 'image_33.jpg', 'image_34.jpg', 'image_35.jpg', 'image_36.webp', 'image_37.jpg', 'image_38.jpg', 'image_39.jpg', 'image_40.jpeg', 'image_41.webp', 'image_42.webp', 'image_43.webp']\n",
      "[]\n",
      "[]\n",
      "[]\n",
      "Number of images renamed:  0\n",
      "Number of images not renamed:  43\n"
     ]
    }
   ],
   "source": [
    "import os\n",
    "\n",
    "image_directory = '..\\ml_train\\\\base_images'\n",
    "\n",
    "# list all of the images in the directory\n",
    "image_list = os.listdir(image_directory)\n",
    "\n",
    "# print the number of images in the directory\n",
    "print('Number of images in the directory: ', len(image_list))\n",
    "\n",
    "# get count of images by file extension\n",
    "image_extensions = [os.path.splitext(x)[1] for x in image_list]\n",
    "print('Count of images by file extension: ', dict([(x,image_extensions.count(x)) for x in set(image_extensions)]))\n",
    "\n",
    "# get a list of images that are already named by index\n",
    "images_already_indexed = [x for x in image_list if x.startswith('image_')]\n",
    "print(images_already_indexed)\n",
    "\n",
    "# get a list of images with only two numeric characters after the underscore\n",
    "images_already_indexed = [x for x in images_already_indexed if x[6:8].isdigit()]\n",
    "print(images_already_indexed)\n",
    "\n",
    "# get a list of images that are not already indexed\n",
    "images_to_index = [x for x in image_list if x not in images_already_indexed]\n",
    "print(images_to_index)\n",
    "\n",
    "# create a list of index values for images that need to be named that skip the already indexed values\n",
    "index_values = [x for x in range(1, len(images_to_index) + 1 + len(images_already_indexed)) if x not in [int(x[6:8]) for x in images_already_indexed]]\n",
    "\n",
    "# create a list of new image names without extensions\n",
    "new_image_names = ['image_' + str(x).zfill(2) for x in index_values]\n",
    "print(new_image_names)\n",
    "\n",
    "# create a list of new image names with extensions\n",
    "new_image_names_with_extensions = [x + os.path.splitext(y)[1] for x,y in zip(new_image_names, images_to_index)]\n",
    "print(new_image_names_with_extensions)\n",
    "\n",
    "# rename files in the directory\n",
    "for x,y in zip(images_to_index, new_image_names_with_extensions):\n",
    "    os.rename(os.path.join(image_directory, x), os.path.join(image_directory, y))\n",
    "\n",
    "# Print out how many images were renamed, and how many images were not renamed\n",
    "print('Number of images renamed: ', len(images_to_index))\n",
    "print('Number of images not renamed: ', len(images_already_indexed))\n",
    "\n",
    "\n",
    "\n",
    "\n",
    "\n",
    "\n",
    "\n"
   ]
  }
 ],
 "metadata": {
  "kernelspec": {
   "display_name": "domino",
   "language": "python",
   "name": "python3"
  },
  "language_info": {
   "codemirror_mode": {
    "name": "ipython",
    "version": 3
   },
   "file_extension": ".py",
   "mimetype": "text/x-python",
   "name": "python",
   "nbconvert_exporter": "python",
   "pygments_lexer": "ipython3",
   "version": "3.8.16"
  },
  "orig_nbformat": 4
 },
 "nbformat": 4,
 "nbformat_minor": 2
}
